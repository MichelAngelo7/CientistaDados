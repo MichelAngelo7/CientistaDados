{
 "cells": [
  {
   "cell_type": "markdown",
   "metadata": {},
   "source": [
    "1. Faça um programa que tenha uma função chamada amplitude. A função deve receber uma lista e imprimir a amplitude. "
   ]
  },
  {
   "cell_type": "code",
   "execution_count": 4,
   "metadata": {},
   "outputs": [],
   "source": [
    "def aplitude(list):\n",
    "    max = -999999\n",
    "    min = 999999\n",
    "    for i in range(len(list)):\n",
    "        if (list[i] > max):\n",
    "            max = list[i]\n",
    "        if (list[i] < min):\n",
    "            min = list[i]\n",
    "        \n",
    "    return print(\"O valor da aplitude é: \", max - min)"
   ]
  },
  {
   "cell_type": "code",
   "execution_count": 9,
   "metadata": {},
   "outputs": [
    {
     "name": "stdout",
     "output_type": "stream",
     "text": [
      "O valor da aplitude é:  9\n"
     ]
    }
   ],
   "source": [
    "aplitude([1,2,3,4,5,6,7,8,9,10])"
   ]
  },
  {
   "cell_type": "markdown",
   "metadata": {},
   "source": [
    "2. Faça uma função que receba uma string e imprima esta string na forma vertical"
   ]
  },
  {
   "cell_type": "code",
   "execution_count": 10,
   "metadata": {},
   "outputs": [],
   "source": [
    "def vertical():\n",
    "    string = input(\"Digite uma String\")\n",
    "    for i in range(len(string)):\n",
    "        print(string[i])"
   ]
  },
  {
   "cell_type": "code",
   "execution_count": 11,
   "metadata": {},
   "outputs": [
    {
     "name": "stdin",
     "output_type": "stream",
     "text": [
      "Digite uma String teste\n"
     ]
    },
    {
     "name": "stdout",
     "output_type": "stream",
     "text": [
      "t\n",
      "e\n",
      "s\n",
      "t\n",
      "e\n"
     ]
    }
   ],
   "source": [
    "vertical()"
   ]
  },
  {
   "cell_type": "markdown",
   "metadata": {},
   "source": [
    "3. Crie um programa que leia o peso de uma carga em números inteiros. Se o peso for até 10 kg, informe que o valor será de R$ 50,00. Entre 11 e 20 Kg, informe que o valor será de R$ 80. Se for maior que 20 informe que o transporte não é aceito."
   ]
  },
  {
   "cell_type": "code",
   "execution_count": 15,
   "metadata": {},
   "outputs": [
    {
     "name": "stdin",
     "output_type": "stream",
     "text": [
      "Informe o peso:  15\n"
     ]
    },
    {
     "name": "stdout",
     "output_type": "stream",
     "text": [
      "O valo do frete é RS 80,00\n"
     ]
    }
   ],
   "source": [
    "peso = int(input(\"Informe o peso: \"))\n",
    "if(peso <= 10):\n",
    "    print(\"O valor do frete é R$50,00\")\n",
    "elif(peso > 10 and peso <= 20):\n",
    "    print(\"O valo do frete é RS 80,00\")\n",
    "else:\n",
    "    print(\"Transporte não aceito\")"
   ]
  },
  {
   "cell_type": "code",
   "execution_count": null,
   "metadata": {},
   "outputs": [],
   "source": []
  }
 ],
 "metadata": {
  "kernelspec": {
   "display_name": "Python 3",
   "language": "python",
   "name": "python3"
  },
  "language_info": {
   "codemirror_mode": {
    "name": "ipython",
    "version": 3
   },
   "file_extension": ".py",
   "mimetype": "text/x-python",
   "name": "python",
   "nbconvert_exporter": "python",
   "pygments_lexer": "ipython3",
   "version": "3.8.5"
  }
 },
 "nbformat": 4,
 "nbformat_minor": 4
}
